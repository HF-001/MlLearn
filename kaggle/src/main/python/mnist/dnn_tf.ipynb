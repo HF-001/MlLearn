{
 "cells": [
  {
   "cell_type": "code",
   "execution_count": 1,
   "metadata": {},
   "outputs": [],
   "source": [
    "\"\"\"\n",
    "copy from kaggle\n",
    "\"\"\"\n",
    "\n",
    "import numpy as np\n",
    "import pandas as pd\n",
    "\n",
    "%matplotlib inline\n",
    "import matplotlib.pyplot as plt\n",
    "import matplotlib.cm as cm  # #里面有很多颜色映射表\n",
    "\n",
    "import tensorflow as tf\n",
    "\n",
    "# settings\n",
    "LEARNING_RATE = 1e-4   # 学习率\n",
    "# set to 20000 on local environment to get 0.99 accuracy\n",
    "TRAINING_ITERATIONS = 2500    # 训练轮数     \n",
    "    \n",
    "DROPOUT = 0.5      # 正则化\n",
    "BATCH_SIZE = 50    # batch大小\n",
    "\n",
    "# set to 0 to train on all available data\n",
    "VALIDATION_SIZE = 2000   # 验证集大小\n",
    "\n",
    "# image number to output\n",
    "IMAGE_TO_DISPLAY = 10      # 用来展示的图片数量"
   ]
  },
  {
   "cell_type": "code",
   "execution_count": 2,
   "metadata": {},
   "outputs": [
    {
     "name": "stdout",
     "output_type": "stream",
     "text": [
      "data(42000,785)\n",
      "   label  pixel0  pixel1  pixel2  pixel3  pixel4  pixel5  pixel6  pixel7  \\\n",
      "0      1       0       0       0       0       0       0       0       0   \n",
      "1      0       0       0       0       0       0       0       0       0   \n",
      "2      1       0       0       0       0       0       0       0       0   \n",
      "3      4       0       0       0       0       0       0       0       0   \n",
      "4      0       0       0       0       0       0       0       0       0   \n",
      "\n",
      "   pixel8    ...     pixel774  pixel775  pixel776  pixel777  pixel778  \\\n",
      "0       0    ...            0         0         0         0         0   \n",
      "1       0    ...            0         0         0         0         0   \n",
      "2       0    ...            0         0         0         0         0   \n",
      "3       0    ...            0         0         0         0         0   \n",
      "4       0    ...            0         0         0         0         0   \n",
      "\n",
      "   pixel779  pixel780  pixel781  pixel782  pixel783  \n",
      "0         0         0         0         0         0  \n",
      "1         0         0         0         0         0  \n",
      "2         0         0         0         0         0  \n",
      "3         0         0         0         0         0  \n",
      "4         0         0         0         0         0  \n",
      "\n",
      "[5 rows x 785 columns]\n"
     ]
    }
   ],
   "source": [
    "# read training data from CSV file \n",
    "data = pd.read_csv('./train.csv')   # 读取训练集\n",
    "\n",
    "print('data({0[0]},{0[1]})'.format(data.shape))  # 打印数据集的大小\n",
    "print (data.head())"
   ]
  },
  {
   "cell_type": "code",
   "execution_count": 3,
   "metadata": {},
   "outputs": [
    {
     "name": "stdout",
     "output_type": "stream",
     "text": [
      "images(42000,784)\n"
     ]
    }
   ],
   "source": [
    "images = data.iloc[:,1:].values # 取第1列之后的数据\n",
    "images = images.astype(np.float) # 转成浮点数\n",
    "\n",
    "# convert from [0:255] => [0.0:1.0]\n",
    "images = np.multiply(images, 1.0 / 255.0)  # 将值除以255.0\n",
    "\n",
    "print('images({0[0]},{0[1]})'.format(images.shape))  # 打印训练集大小"
   ]
  },
  {
   "cell_type": "code",
   "execution_count": 4,
   "metadata": {},
   "outputs": [
    {
     "name": "stdout",
     "output_type": "stream",
     "text": [
      "image_size => 784\n",
      "image_width => 28\n",
      "image_height => 28\n"
     ]
    }
   ],
   "source": [
    "image_size = images.shape[1]  # 图像大小\n",
    "print ('image_size => {0}'.format(image_size))\n",
    "\n",
    "# in this case all images are square\n",
    "image_width = image_height = np.ceil(np.sqrt(image_size)).astype(np.uint8) #  np.ceil(x)计算大于等于x的最小整数,np.sqrt()求平方根\n",
    "\n",
    "print ('image_width => {0}\\nimage_height => {1}'.format(image_width,image_height))"
   ]
  },
  {
   "cell_type": "code",
   "execution_count": 5,
   "metadata": {},
   "outputs": [
    {
     "data": {
      "image/png": "[encoded data removed]",
      "text/plain": [
       "<Figure size 432x288 with 1 Axes>"
      ]
     },
     "metadata": {
      "needs_background": "light"
     },
     "output_type": "display_data"
    }
   ],
   "source": [
    "# display image\n",
    "def display(img):\n",
    "    \n",
    "    # (784) => (28,28)\n",
    "    one_image = img.reshape(image_width,image_height) # 改变形状\n",
    "    \n",
    "    plt.axis('off')             # 关闭坐标轴\n",
    "    plt.imshow(one_image, cmap=cm.binary)  # plt.imshow()函数负责对图像进行处理，并显示其格式\n",
    "\n",
    "# output image     \n",
    "display(images[IMAGE_TO_DISPLAY])   # 调用display()方法，显示图片"
   ]
  },
  {
   "cell_type": "code",
   "execution_count": 8,
   "metadata": {},
   "outputs": [
    {
     "name": "stdout",
     "output_type": "stream",
     "text": [
      "labels_flat(42000)\n",
      "labels_flat[10] => 8\n"
     ]
    }
   ],
   "source": [
    "labels_flat = data[['label']].values.ravel() # 转成一维数组，不会产生源数据副本\n",
    "\n",
    "print('labels_flat({0})'.format(len(labels_flat))) # 打印label数量\n",
    "print ('labels_flat[{0}] => {1}'.format(IMAGE_TO_DISPLAY,labels_flat[IMAGE_TO_DISPLAY]))"
   ]
  },
  {
   "cell_type": "code",
   "execution_count": 34,
   "metadata": {},
   "outputs": [
    {
     "data": {
      "text/plain": [
       "(10,)"
      ]
     },
     "execution_count": 34,
     "metadata": {},
     "output_type": "execute_result"
    }
   ],
   "source": [
    "labels_count = np.unique(labels_flat)\n",
    "labels_count\n",
    "labels_count.shape"
   ]
  },
  {
   "cell_type": "code",
   "execution_count": 9,
   "metadata": {},
   "outputs": [
    {
     "name": "stdout",
     "output_type": "stream",
     "text": [
      "labels_count => 10\n"
     ]
    }
   ],
   "source": [
    "labels_count = np.unique(labels_flat).shape[0]    # np.unique()函数是去除数组中的重复数字，并进行排序之后输出。.shape得到元组(10,)。.shape[0]取元组的第一个值\n",
    "\n",
    "print('labels_count => {0}'.format(labels_count))  # 打印去重后的label数"
   ]
  },
  {
   "cell_type": "code",
   "execution_count": 10,
   "metadata": {},
   "outputs": [
    {
     "name": "stdout",
     "output_type": "stream",
     "text": [
      "labels(42000,10)\n",
      "labels[10] => [0 0 0 0 0 0 0 0 1 0]\n"
     ]
    }
   ],
   "source": [
    "# convert class labels from scalars to one-hot vectors\n",
    "# 0 => [1 0 0 0 0 0 0 0 0 0]\n",
    "# 1 => [0 1 0 0 0 0 0 0 0 0]\n",
    "# ...\n",
    "# 9 => [0 0 0 0 0 0 0 0 0 1]\n",
    "def dense_to_one_hot(labels_dense, num_classes):\n",
    "    num_labels = labels_dense.shape[0]                           # label数\n",
    "    index_offset = np.arange(num_labels) * num_classes           # 返回[0, 10, 20, ...],因为后面flat会得到一维的迭代器，每行10个元素，所以这里表示每一行\n",
    "    labels_one_hot = np.zeros((num_labels, num_classes))         # 全0矩阵\n",
    "    labels_one_hot.flat[index_offset + labels_dense.ravel()] = 1 # .flat返回迭代器，index_offset指定行，labels_dense.ravel()指定列，进而实现one-hot编码\n",
    "    return labels_one_hot\n",
    "\n",
    "labels = dense_to_one_hot(labels_flat, labels_count)       # 调用函数，进行one-hot编码\n",
    "labels = labels.astype(np.uint8)                           # 转成int\n",
    "\n",
    "print('labels({0[0]},{0[1]})'.format(labels.shape))        # 打印labels形状，样本数*10\n",
    "print ('labels[{0}] => {1}'.format(IMAGE_TO_DISPLAY,labels[IMAGE_TO_DISPLAY])) # 用于展示的图片的one-hot编码"
   ]
  },
  {
   "cell_type": "code",
   "execution_count": 11,
   "metadata": {},
   "outputs": [
    {
     "name": "stdout",
     "output_type": "stream",
     "text": [
      "train_images(40000,784)\n",
      "validation_images(2000,784)\n"
     ]
    }
   ],
   "source": [
    "# split data into training & validation\n",
    "validation_images = images[:VALIDATION_SIZE]  # 取前2000个图片作为验证集\n",
    "validation_labels = labels[:VALIDATION_SIZE]\n",
    "\n",
    "train_images = images[VALIDATION_SIZE:]     # 取2001之后的图片用于训练\n",
    "train_labels = labels[VALIDATION_SIZE:]\n",
    "\n",
    "\n",
    "print('train_images({0[0]},{0[1]})'.format(train_images.shape))   # 打印训练集的大小\n",
    "print('validation_images({0[0]},{0[1]})'.format(validation_images.shape))  # 打印验证集的大小"
   ]
  },
  {
   "cell_type": "code",
   "execution_count": 12,
   "metadata": {},
   "outputs": [],
   "source": [
    "# weight initialization\n",
    "def weight_variable(shape):          # 初始化权重w矩阵\n",
    "    initial = tf.truncated_normal(shape, stddev=0.1)\n",
    "    return tf.Variable(initial)\n",
    "\n",
    "def bias_variable(shape):            # 初始化偏置b矩阵\n",
    "    initial = tf.constant(0.1, shape=shape)\n",
    "    return tf.Variable(initial)"
   ]
  },
  {
   "cell_type": "code",
   "execution_count": 13,
   "metadata": {},
   "outputs": [],
   "source": [
    "# convolution\n",
    "def conv2d(x, W):      # 卷积函数\n",
    "    return tf.nn.conv2d(x, W, strides=[1, 1, 1, 1], padding='SAME')"
   ]
  },
  {
   "cell_type": "code",
   "execution_count": 14,
   "metadata": {},
   "outputs": [],
   "source": [
    "# pooling\n",
    "# [[0,3],\n",
    "#  [4,2]] => 4\n",
    "\n",
    "# [[0,1],\n",
    "#  [1,1]] => 1\n",
    "\n",
    "def max_pool_2x2(x):   # 最大池化函数\n",
    "    return tf.nn.max_pool(x, ksize=[1, 2, 2, 1], strides=[1, 2, 2, 1], padding='SAME')"
   ]
  },
  {
   "cell_type": "code",
   "execution_count": 15,
   "metadata": {},
   "outputs": [],
   "source": [
    "# input & output of NN\n",
    "\n",
    "# images\n",
    "x = tf.placeholder('float', shape=[None, image_size])       # 输入x的占位符\n",
    "# labels\n",
    "y_ = tf.placeholder('float', shape=[None, labels_count])    # 输入y_的占位符"
   ]
  },
  {
   "cell_type": "code",
   "execution_count": 16,
   "metadata": {},
   "outputs": [],
   "source": [
    "# first convolutional layer\n",
    "W_conv1 = weight_variable([5, 5, 1, 32])                    # 第一个卷积层的权重矩阵\n",
    "b_conv1 = bias_variable([32])                               # 第一个卷积层的偏置矩阵\n",
    "\n",
    "# (40000,784) => (40000,28,28,1)\n",
    "image = tf.reshape(x, [-1,image_width , image_height,1])    # 转换输入x的形状\n",
    "#print (image.get_shape()) # =>(40000,28,28,1)\n",
    "\n",
    "\n",
    "h_conv1 = tf.nn.relu(conv2d(image, W_conv1) + b_conv1)     # 对输入图片进行卷积+relu激活\n",
    "#print (h_conv1.get_shape()) # => (40000, 28, 28, 32)\n",
    "h_pool1 = max_pool_2x2(h_conv1)                            # 最大池化\n",
    "#print (h_pool1.get_shape()) # => (40000, 14, 14, 32)\n",
    "\n",
    "\n",
    "# Prepare for visualization\n",
    "# display 32 fetures in 4 by 8 grid\n",
    "layer1 = tf.reshape(h_conv1, (-1, image_height, image_width, 4 ,8))      # 转换卷积一的输出形状，(40000, 28, 28, 32) => (40000, 28, 28, 4, 8)\n",
    "\n",
    "# reorder so the channels are in the first dimension, x and y follow.\n",
    "layer1 = tf.transpose(layer1, (0, 3, 1, 4,2))      # 用于交换输入张量的不同维度, (40000, 4, 28, 8, 28)\n",
    "\n",
    "layer1 = tf.reshape(layer1, (-1, image_height*4, image_width*8)) # 改变形状， (40000, 28*4, 28*8)"
   ]
  },
  {
   "cell_type": "code",
   "execution_count": 17,
   "metadata": {},
   "outputs": [],
   "source": [
    "# second convolutional layer 第二个卷积层\n",
    "W_conv2 = weight_variable([5, 5, 32, 64])   # 第二个卷积层的权重矩阵\n",
    "b_conv2 = bias_variable([64])               # 第二个卷积层的偏置矩阵\n",
    "\n",
    "h_conv2 = tf.nn.relu(conv2d(h_pool1, W_conv2) + b_conv2)   # 卷积+relu激活\n",
    "#print (h_conv2.get_shape()) # => (40000, 14,14, 64)\n",
    "h_pool2 = max_pool_2x2(h_conv2)                            # 第二个最大池化层\n",
    "#print (h_pool2.get_shape()) # => (40000, 7, 7, 64)\n",
    "\n",
    "# Prepare for visualization\n",
    "# display 64 fetures in 4 by 16 grid\n",
    "layer2 = tf.reshape(h_conv2, (-1, 14, 14, 4 ,16))       # 改变第二个卷积层的输出，(40000, 14,14, 64) => (40000, 14, 14, 4, 16)\n",
    "\n",
    "# reorder so the channels are in the first dimension, x and y follow.\n",
    "layer2 = tf.transpose(layer2, (0, 3, 1, 4,2))           # 交换输入张量的不同维度， (40000, 14, 14, 4, 16) => (40000, 4, 14, 16, 14)\n",
    "\n",
    "layer2 = tf.reshape(layer2, (-1, 14*4, 14*16))          # 改变形状， (40000, 4, 14, 16, 14) => (40000, 14*4, 14*16)    "
   ]
  },
  {
   "cell_type": "code",
   "execution_count": 18,
   "metadata": {},
   "outputs": [],
   "source": [
    "# densely connected layer  全连接层一\n",
    "W_fc1 = weight_variable([7 * 7 * 64, 1024])             # 全连接层一的权重矩阵     \n",
    "b_fc1 = bias_variable([1024])                           # 全连接层一的偏置矩阵\n",
    "\n",
    "# (40000, 7, 7, 64) => (40000, 3136)\n",
    "h_pool2_flat = tf.reshape(h_pool2, [-1, 7*7*64])        # 展平，改变第二个池化层的输出形状，(40000, 7, 7, 64) => (40000， 7*7*64)\n",
    "\n",
    "h_fc1 = tf.nn.relu(tf.matmul(h_pool2_flat, W_fc1) + b_fc1)  # 全连接层的输出，relu(x*w+b)\n",
    "#print (h_fc1.get_shape()) # => (40000, 1024)"
   ]
  },
  {
   "cell_type": "code",
   "execution_count": 19,
   "metadata": {},
   "outputs": [],
   "source": [
    "# dropout  正则化\n",
    "keep_prob = tf.placeholder('float')                    # 缺失概率， 占位符\n",
    "h_fc1_drop = tf.nn.dropout(h_fc1, keep_prob)           # 第一个全连接层的正则化"
   ]
  },
  {
   "cell_type": "code",
   "execution_count": 20,
   "metadata": {},
   "outputs": [],
   "source": [
    "# readout layer for deep net  输出层\n",
    "W_fc2 = weight_variable([1024, labels_count])          # 第二个全连接层的权重矩阵\n",
    "b_fc2 = bias_variable([labels_count])                  # 第二个全连接层的偏置矩阵\n",
    "\n",
    "y = tf.nn.softmax(tf.matmul(h_fc1_drop, W_fc2) + b_fc2) # 输出，softmax(x*w+b)\n",
    "\n",
    "#print (y.get_shape()) # => (40000, 10)"
   ]
  },
  {
   "cell_type": "code",
   "execution_count": 21,
   "metadata": {},
   "outputs": [],
   "source": [
    "# cost function 损失函数， 交叉熵损失函数\n",
    "cross_entropy = -tf.reduce_sum(y_*tf.log(y))\n",
    "\n",
    "\n",
    "# optimisation function 优化器\n",
    "train_step = tf.train.AdamOptimizer(LEARNING_RATE).minimize(cross_entropy)\n",
    "\n",
    "# evaluation    \n",
    "correct_prediction = tf.equal(tf.argmax(y,1), tf.argmax(y_,1)) \n",
    "# tf.argmax(y,1)返回每行的最大值索引，tf.equal(A, B)是对比这两个矩阵或者向量的相等的元素，如果是相等的那就返回True，反正返回False，返回的值的矩阵维度和A是一样的\n",
    "\n",
    "accuracy = tf.reduce_mean(tf.cast(correct_prediction, 'float')) \n",
    "# tf.cast()类型转换， tf.reduce_mean 函数用于计算张量tensor沿着指定的数轴（tensor的某一维度）上的的平均值，主要用作降维或者计算tensor（图像）的平均值。"
   ]
  },
  {
   "cell_type": "code",
   "execution_count": 22,
   "metadata": {},
   "outputs": [],
   "source": [
    "# prediction function\n",
    "#[0.1, 0.9, 0.2, 0.1, 0.1 0.3, 0.5, 0.1, 0.2, 0.3] => 1\n",
    "predict = tf.argmax(y,1)"
   ]
  },
  {
   "cell_type": "code",
   "execution_count": 23,
   "metadata": {},
   "outputs": [],
   "source": [
    "epochs_completed = 0 # 完成的轮数\n",
    "index_in_epoch = 0   # 每一轮的索引\n",
    "num_examples = train_images.shape[0]  # 样本数\n",
    "\n",
    "# serve data by batches\n",
    "def next_batch(batch_size):\n",
    "    \n",
    "    global train_images\n",
    "    global train_labels\n",
    "    global index_in_epoch\n",
    "    global epochs_completed\n",
    "    \n",
    "    start = index_in_epoch  # 开始处的索引\n",
    "    index_in_epoch += batch_size # 加batch大小\n",
    "    \n",
    "    # when all trainig data have been already used, it is reorder randomly    \n",
    "    if index_in_epoch > num_examples:      # 如果超过样本数\n",
    "        # finished epoch\n",
    "        epochs_completed += 1              # 完成的轮数加一\n",
    "        # shuffle the data\n",
    "        perm = np.arange(num_examples)     # 返回[0,1,2..., num_examples-1]\n",
    "        np.random.shuffle(perm)            # 打乱list\n",
    "        train_images = train_images[perm]  # 取训练集特征\n",
    "        train_labels = train_labels[perm]  # 取训练集label\n",
    "        # start next epoch\n",
    "        start = 0                          # 下一轮的开始取数索引\n",
    "        index_in_epoch = batch_size        # 每一轮的索引，第一次为batch大小\n",
    "        assert batch_size <= num_examples  # 检查batch大小是否小于样本数, assert用于判断一个表达式，在表达式条件为 false 的时候触发异常\n",
    "    end = index_in_epoch                   # 结束处的索引             \n",
    "    return train_images[start:end], train_labels[start:end]   # 每个batch的特征数、label"
   ]
  },
  {
   "cell_type": "code",
   "execution_count": 24,
   "metadata": {},
   "outputs": [
    {
     "name": "stdout",
     "output_type": "stream",
     "text": [
      "WARNING:tensorflow:From /usr/local/anaconda3/lib/python3.6/site-packages/tensorflow/python/util/tf_should_use.py:118: initialize_all_variables (from tensorflow.python.ops.variables) is deprecated and will be removed after 2017-03-02.\n",
      "Instructions for updating:\n",
      "Use `tf.global_variables_initializer` instead.\n"
     ]
    }
   ],
   "source": [
    "# start TensorFlow session\n",
    "init = tf.initialize_all_variables()   # 初始化\n",
    "sess = tf.InteractiveSession()         # 创建会话，可以在运行计算图时，动态的插入一些操作\n",
    "\n",
    "sess.run(init)                         # 在会话中执行初始化"
   ]
  },
  {
   "cell_type": "code",
   "execution_count": 25,
   "metadata": {},
   "outputs": [
    {
     "name": "stdout",
     "output_type": "stream",
     "text": [
      "training_accuracy / validation_accuracy => 0.12 / 0.04 for step 0\n",
      "training_accuracy / validation_accuracy => 0.12 / 0.08 for step 1\n",
      "training_accuracy / validation_accuracy => 0.14 / 0.10 for step 2\n",
      "training_accuracy / validation_accuracy => 0.10 / 0.14 for step 3\n",
      "training_accuracy / validation_accuracy => 0.16 / 0.12 for step 4\n",
      "training_accuracy / validation_accuracy => 0.14 / 0.14 for step 5\n",
      "training_accuracy / validation_accuracy => 0.10 / 0.12 for step 6\n",
      "training_accuracy / validation_accuracy => 0.18 / 0.24 for step 7\n",
      "training_accuracy / validation_accuracy => 0.16 / 0.22 for step 8\n",
      "training_accuracy / validation_accuracy => 0.32 / 0.28 for step 9\n",
      "training_accuracy / validation_accuracy => 0.22 / 0.30 for step 10\n",
      "training_accuracy / validation_accuracy => 0.54 / 0.52 for step 20\n",
      "training_accuracy / validation_accuracy => 0.62 / 0.62 for step 30\n",
      "training_accuracy / validation_accuracy => 0.72 / 0.66 for step 40\n",
      "training_accuracy / validation_accuracy => 0.66 / 0.78 for step 50\n",
      "training_accuracy / validation_accuracy => 0.76 / 0.84 for step 60\n",
      "training_accuracy / validation_accuracy => 0.86 / 0.80 for step 70\n",
      "training_accuracy / validation_accuracy => 0.84 / 0.84 for step 80\n",
      "training_accuracy / validation_accuracy => 0.78 / 0.86 for step 90\n",
      "training_accuracy / validation_accuracy => 0.86 / 0.84 for step 100\n",
      "training_accuracy / validation_accuracy => 0.94 / 0.90 for step 200\n",
      "training_accuracy / validation_accuracy => 0.90 / 0.92 for step 300\n",
      "training_accuracy / validation_accuracy => 0.92 / 0.90 for step 400\n",
      "training_accuracy / validation_accuracy => 1.00 / 0.92 for step 500\n",
      "training_accuracy / validation_accuracy => 0.96 / 0.94 for step 600\n",
      "training_accuracy / validation_accuracy => 0.88 / 0.94 for step 700\n",
      "training_accuracy / validation_accuracy => 0.94 / 0.96 for step 800\n",
      "training_accuracy / validation_accuracy => 0.96 / 0.96 for step 900\n",
      "training_accuracy / validation_accuracy => 0.98 / 0.96 for step 1000\n",
      "training_accuracy / validation_accuracy => 1.00 / 0.98 for step 2000\n",
      "training_accuracy / validation_accuracy => 0.98 / 0.98 for step 2499\n"
     ]
    }
   ],
   "source": [
    "# visualisation variables\n",
    "train_accuracies = []          # 用于保存训练的准确率\n",
    "validation_accuracies = []     # 用于保存验证集的准确率\n",
    "x_range = []                 \n",
    "\n",
    "display_step=1\n",
    "\n",
    "for i in range(TRAINING_ITERATIONS):   # 循环训练\n",
    "\n",
    "    #get new batch\n",
    "    batch_xs, batch_ys = next_batch(BATCH_SIZE)     # 获取下一个batch   \n",
    "\n",
    "    # check progress on every 1st,2nd,...,10th,20th,...,100th... step\n",
    "    if i%display_step == 0 or (i+1) == TRAINING_ITERATIONS:\n",
    "        \n",
    "        train_accuracy = accuracy.eval(feed_dict={x:batch_xs, \n",
    "                                                  y_: batch_ys, \n",
    "                                                  keep_prob: 1.0})            # 在训练集上评估模型的准确率     \n",
    "        if(VALIDATION_SIZE):  # 验证集大小不为空\n",
    "            validation_accuracy = accuracy.eval(feed_dict={ x: validation_images[0:BATCH_SIZE], \n",
    "                                                            y_: validation_labels[0:BATCH_SIZE], \n",
    "                                                            keep_prob: 1.0})  # 在验证集上评估模型准确率                               \n",
    "            print('training_accuracy / validation_accuracy => %.2f / %.2f for step %d'%(train_accuracy, validation_accuracy, i)) # 打印准确率，训练轮数\n",
    "            \n",
    "            validation_accuracies.append(validation_accuracy)  # 加入验证集准确率list中\n",
    "            \n",
    "        else:   # 没有验证集\n",
    "             print('training_accuracy => %.4f for step %d'%(train_accuracy, i))  # 打印训练集上的准确率，训练轮数\n",
    "        train_accuracies.append(train_accuracy)  # 将训练集准确率加入训练准确率list中\n",
    "        x_range.append(i)                        # 将训练轮数加入list中\n",
    "        \n",
    "        # increase display_step\n",
    "        if i%(display_step*10) == 0 and i:       # 增加展示的步数\n",
    "            display_step *= 10\n",
    "    # train on batch\n",
    "    sess.run(train_step, feed_dict={x: batch_xs, y_: batch_ys, keep_prob: DROPOUT})  # 训练"
   ]
  },
  {
   "cell_type": "code",
   "execution_count": 26,
   "metadata": {},
   "outputs": [
    {
     "name": "stdout",
     "output_type": "stream",
     "text": [
      "validation_accuracy => 0.9820\n"
     ]
    },
    {
     "data": {
      "image/png": "[encoded data removed]",
      "text/plain": [
       "<Figure size 432x288 with 1 Axes>"
      ]
     },
     "metadata": {
      "needs_background": "light"
     },
     "output_type": "display_data"
    }
   ],
   "source": [
    "# check final accuracy on validation set  \n",
    "if(VALIDATION_SIZE):                # 验证集非空\n",
    "    validation_accuracy = accuracy.eval(feed_dict={x: validation_images, \n",
    "                                                   y_: validation_labels, \n",
    "                                                   keep_prob: 1.0})   # 在验证集上评估模型\n",
    "    print('validation_accuracy => %.4f'%validation_accuracy)          # 打印验证集的准确率\n",
    "    plt.plot(x_range, train_accuracies,'-b', label='Training')        # 画训练集准确率的折线图 \n",
    "    plt.plot(x_range, validation_accuracies,'-g', label='Validation') # 画验证集准确率的折线图\n",
    "    plt.legend(loc='lower right', frameon=False)                      # 图例\n",
    "    plt.ylim(ymax = 1.1, ymin = 0.7)                                  # y轴刻度\n",
    "    plt.ylabel('accuracy')                                            # y轴名称\n",
    "    plt.xlabel('step')                                                # x轴名称\n",
    "    plt.show()                                                        # 展示图像"
   ]
  },
  {
   "cell_type": "code",
   "execution_count": 28,
   "metadata": {},
   "outputs": [
    {
     "name": "stdout",
     "output_type": "stream",
     "text": [
      "test_images(28000,784)\n",
      "predicted_lables(28000)\n",
      "predicted_lables[10] => 5.0\n"
     ]
    },
    {
     "data": {
      "image/png": "[encoded data removed]",
      "text/plain": [
       "<Figure size 432x288 with 1 Axes>"
      ]
     },
     "metadata": {
      "needs_background": "light"
     },
     "output_type": "display_data"
    }
   ],
   "source": [
    "# read test data from CSV file \n",
    "test_images = pd.read_csv('./test.csv').values     # 读取测试集\n",
    "test_images = test_images.astype(np.float)         # 转成浮点数\n",
    "\n",
    "# convert from [0:255] => [0.0:1.0]\n",
    "test_images = np.multiply(test_images, 1.0 / 255.0)  # 除以255.0\n",
    "\n",
    "print('test_images({0[0]},{0[1]})'.format(test_images.shape))  # 打印测试集的大小\n",
    "\n",
    "\n",
    "# predict test set\n",
    "#predicted_lables = predict.eval(feed_dict={x: test_images, keep_prob: 1.0})\n",
    "\n",
    "# using batches is more resource efficient\n",
    "predicted_lables = np.zeros(test_images.shape[0])     # 全0向量，大小为测试集样本数\n",
    "for i in range(0,test_images.shape[0]//BATCH_SIZE):\n",
    "    predicted_lables[i*BATCH_SIZE : (i+1)*BATCH_SIZE] = predict.eval(feed_dict={x: test_images[i*BATCH_SIZE : (i+1)*BATCH_SIZE], \n",
    "                                                                                keep_prob: 1.0})    # 在测试集上进行预测\n",
    "\n",
    "\n",
    "print('predicted_lables({0})'.format(len(predicted_lables)))            # 打印预测结果的大小\n",
    "\n",
    "# output test image and prediction\n",
    "display(test_images[IMAGE_TO_DISPLAY])                                  # 展示测试集的第10个样本\n",
    "print ('predicted_lables[{0}] => {1}'.format(IMAGE_TO_DISPLAY,predicted_lables[IMAGE_TO_DISPLAY]))  # 展示第10个样本的预测结果\n",
    "\n",
    "# save results\n",
    "np.savetxt('submission_softmax.csv', \n",
    "           np.c_[range(1,len(test_images)+1),predicted_lables], \n",
    "           delimiter=',', \n",
    "           header = 'ImageId,Label', \n",
    "           comments = '', \n",
    "           fmt='%d')             # 保存结果"
   ]
  },
  {
   "cell_type": "code",
   "execution_count": 29,
   "metadata": {},
   "outputs": [
    {
     "data": {
      "text/plain": [
       "<matplotlib.image.AxesImage at 0x7f1ecec59b70>"
      ]
     },
     "execution_count": 29,
     "metadata": {},
     "output_type": "execute_result"
    },
    {
     "data": {
      "image/png": "[encoded data removed]",
      "text/plain": [
       "<Figure size 432x288 with 1 Axes>"
      ]
     },
     "metadata": {
      "needs_background": "light"
     },
     "output_type": "display_data"
    }
   ],
   "source": [
    "layer1_grid = layer1.eval(feed_dict={x: test_images[IMAGE_TO_DISPLAY:IMAGE_TO_DISPLAY+1], keep_prob: 1.0})   # 使用网络的第一层提取测试集特征\n",
    "plt.axis('off')               # 关闭坐标轴\n",
    "plt.imshow(layer1_grid[0], cmap=cm.seismic )   # 展示第一层第0个样本的输出特征"
   ]
  },
  {
   "cell_type": "code",
   "execution_count": 30,
   "metadata": {},
   "outputs": [],
   "source": [
    "sess.close()     # 关闭会话"
   ]
  },
  {
   "cell_type": "code",
   "execution_count": null,
   "metadata": {},
   "outputs": [],
   "source": []
  }
 ],
 "metadata": {
  "kernelspec": {
   "display_name": "Python3 (PySpark)",
   "language": "python",
   "name": "python3"
  },
  "language_info": {
   "codemirror_mode": {
    "name": "ipython",
    "version": 3
   },
   "file_extension": ".py",
   "mimetype": "text/x-python",
   "name": "python",
   "nbconvert_exporter": "python",
   "pygments_lexer": "ipython3",
   "version": "3.6.7"
  }
 },
 "nbformat": 4,
 "nbformat_minor": 2
}
