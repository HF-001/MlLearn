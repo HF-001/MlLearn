{
 "cells": [
  {
   "cell_type": "code",
   "execution_count": 1,
   "metadata": {
    "collapsed": true
   },
   "outputs": [],
   "source": [
    "import numpy as np\n",
    "import tensorflow as tf\n",
    "import matplotlib.pyplot as plt"
   ]
  },
  {
   "cell_type": "markdown",
   "metadata": {},
   "source": [
    "#### 1.  定义RNN的参数。"
   ]
  },
  {
   "cell_type": "code",
   "execution_count": 2,
   "metadata": {
    "collapsed": true
   },
   "outputs": [],
   "source": [
    "HIDDEN_SIZE = 30                            # LSTM中隐藏节点的个数。\n",
    "NUM_LAYERS = 2                              # LSTM的层数。\n",
    "TIMESTEPS = 10                              # 循环神经网络的训练序列长度。\n",
    "TRAINING_STEPS = 10000                      # 训练轮数。\n",
    "BATCH_SIZE = 32                             # batch大小。\n",
    "TRAINING_EXAMPLES = 10000                   # 训练数据个数。\n",
    "TESTING_EXAMPLES = 1000                     # 测试数据个数。\n",
    "SAMPLE_GAP = 0.01                           # 采样间隔。"
   ]
  },
  {
   "cell_type": "markdown",
   "metadata": {},
   "source": [
    "#### 2.  产生正弦数据。"
   ]
  },
  {
   "cell_type": "code",
   "execution_count": 4,
   "metadata": {
    "collapsed": true,
    "scrolled": true
   },
   "outputs": [],
   "source": [
    "def generate_data(seq):\n",
    "    X = []\n",
    "    y = []\n",
    "    # 序列的第i项和后面的TIMESTEPS-1项合在一起作为输入；第i + TIMESTEPS项作为输\n",
    "    # 出。即用sin函数前面的TIMESTEPS个点的信息，预测第i + TIMESTEPS个点的函数值。\n",
    "    for i in range(len(seq) - TIMESTEPS):  # 遍历序列，从0到len(seq) - TIMESTEPS\n",
    "        X.append([seq[i: i + TIMESTEPS]])  # 将i后面TIMESTEPS个数值加入X中\n",
    "        y.append([seq[i + TIMESTEPS]])  # 将i+TIMESTEPS处的值加入y\n",
    "    return np.array(X, dtype=np.float32), np.array(y, dtype=np.float32)   # 返回x, y的数组形式\n",
    "\n",
    "# 用正弦函数生成训练和测试数据集合。\n",
    "test_start = (TRAINING_EXAMPLES + TIMESTEPS) * SAMPLE_GAP # 测试数据采样开始位置\n",
    "test_end = test_start + (TESTING_EXAMPLES + TIMESTEPS) * SAMPLE_GAP # 测试数据采样结束位置\n",
    "train_X, train_y = generate_data(np.sin(np.linspace(  \n",
    "    0, test_start, TRAINING_EXAMPLES + TIMESTEPS, dtype=np.float32))) # 训练集， 用来创建等差数列，开始位置、结束位置、样本数、数据类型\n",
    "test_X, test_y = generate_data(np.sin(np.linspace(\n",
    "    test_start, test_end, TESTING_EXAMPLES + TIMESTEPS, dtype=np.float32))) # 测试集"
   ]
  },
  {
   "cell_type": "markdown",
   "metadata": {},
   "source": [
    "#### 3. 定义网络结构和优化步骤。"
   ]
  },
  {
   "cell_type": "code",
   "execution_count": 5,
   "metadata": {
    "collapsed": true
   },
   "outputs": [],
   "source": [
    "def lstm_model(X, y, is_training):   \n",
    "    # 使用多层的LSTM结构。\n",
    "    cell = tf.nn.rnn_cell.MultiRNNCell([\n",
    "        tf.nn.rnn_cell.BasicLSTMCell(HIDDEN_SIZE) \n",
    "        for _ in range(NUM_LAYERS)])    \n",
    "\n",
    "    # 使用TensorFlow接口将多层的LSTM结构连接成RNN网络并计算其前向传播结果。\n",
    "    outputs, _ = tf.nn.dynamic_rnn(cell, X, dtype=tf.float32)\n",
    "    output = outputs[:, -1, :] # outputs是最后一层的输出，即 [batch_size，step，n_neurons] = [4，2，5] \n",
    "\n",
    "    # 对LSTM网络的输出再做加一层全链接层并计算损失。注意这里默认的损失为平均\n",
    "    # 平方差损失函数。\n",
    "    predictions = tf.contrib.layers.fully_connected(\n",
    "        output, 1, activation_fn=None)  # 全连接层\n",
    "    \n",
    "    # 只在训练时计算损失函数和优化步骤。测试时直接返回预测结果。\n",
    "    if not is_training:\n",
    "        return predictions, None, None\n",
    "        \n",
    "    # 计算损失函数。\n",
    "    loss = tf.losses.mean_squared_error(labels=y, predictions=predictions) # 计算mse\n",
    "\n",
    "    # 创建模型优化器并得到优化步骤。\n",
    "    train_op = tf.contrib.layers.optimize_loss(\n",
    "        loss, tf.train.get_global_step(),\n",
    "        optimizer=\"Adagrad\", learning_rate=0.1)   # 优化器\n",
    "    return predictions, loss, train_op"
   ]
  },
  {
   "cell_type": "markdown",
   "metadata": {},
   "source": [
    "#### 4. 定义测试方法。"
   ]
  },
  {
   "cell_type": "code",
   "execution_count": 6,
   "metadata": {
    "collapsed": true
   },
   "outputs": [],
   "source": [
    "def run_eval(sess, test_X, test_y):\n",
    "    # 将测试数据以数据集的方式提供给计算图。\n",
    "    ds = tf.data.Dataset.from_tensor_slices((test_X, test_y))\n",
    "    ds = ds.batch(1)\n",
    "    X, y = ds.make_one_shot_iterator().get_next()\n",
    "    \n",
    "    # 调用模型得到计算结果。这里不需要输入真实的y值。\n",
    "    with tf.variable_scope(\"model\", reuse=True):\n",
    "        prediction, _, _ = lstm_model(X, [0.0], False)\n",
    "    \n",
    "    # 将预测结果存入一个数组。\n",
    "    predictions = []\n",
    "    labels = []\n",
    "    for i in range(TESTING_EXAMPLES):\n",
    "        p, l = sess.run([prediction, y])\n",
    "        predictions.append(p)\n",
    "        labels.append(l)\n",
    "\n",
    "    # 计算rmse作为评价指标。\n",
    "    predictions = np.array(predictions).squeeze()\n",
    "    labels = np.array(labels).squeeze()\n",
    "    rmse = np.sqrt(((predictions - labels) ** 2).mean(axis=0))\n",
    "    print(\"Root Mean Square Error is: %f\" % rmse)\n",
    "    \n",
    "    #对预测的sin函数曲线进行绘图。\n",
    "    plt.figure()\n",
    "    plt.plot(predictions, label='predictions')\n",
    "    plt.plot(labels, label='real_sin')\n",
    "    plt.legend()\n",
    "    plt.show()"
   ]
  },
  {
   "cell_type": "markdown",
   "metadata": {},
   "source": [
    "#### 5. 执行训练和测试。"
   ]
  },
  {
   "cell_type": "code",
   "execution_count": 7,
   "metadata": {},
   "outputs": [
    {
     "name": "stdout",
     "output_type": "stream",
     "text": [
      "Evaluate model before training.\n",
      "Root Mean Square Error is: 0.707337\n"
     ]
    },
    {
     "data": {
      "image/png": "[encoded data removed]",
      "text/plain": [
       "<Figure size 432x288 with 1 Axes>"
      ]
     },
     "metadata": {
      "needs_background": "light"
     },
     "output_type": "display_data"
    },
    {
     "name": "stdout",
     "output_type": "stream",
     "text": [
      "train step: 0, loss: 0.52110344\n",
      "train step: 1000, loss: 0.00069133914\n",
      "train step: 2000, loss: 0.00032905216\n",
      "train step: 3000, loss: 5.498973e-05\n",
      "train step: 4000, loss: 1.10232795e-05\n",
      "train step: 5000, loss: 4.708487e-06\n",
      "train step: 6000, loss: 5.261908e-06\n",
      "train step: 7000, loss: 5.7115085e-06\n",
      "train step: 8000, loss: 3.834958e-06\n",
      "train step: 9000, loss: 2.7878984e-06\n",
      "Evaluate model after training.\n",
      "Root Mean Square Error is: 0.001949\n"
     ]
    },
    {
     "data": {
      "image/png": "[encoded data removed]",
      "text/plain": [
       "<Figure size 432x288 with 1 Axes>"
      ]
     },
     "metadata": {
      "needs_background": "light"
     },
     "output_type": "display_data"
    }
   ],
   "source": [
    "# 将训练数据以数据集的方式提供给计算图。\n",
    "ds = tf.data.Dataset.from_tensor_slices((train_X, train_y))\n",
    "ds = ds.repeat().shuffle(1000).batch(BATCH_SIZE) # repeat()在之前，相当于先把整个数据集复制两次#shuffle(1000)将数据打乱，数值越大，混乱程度越大\n",
    "X, y = ds.make_one_shot_iterator().get_next()  # 迭代器\n",
    "\n",
    "# 定义模型，得到预测结果、损失函数，和训练操作。\n",
    "with tf.variable_scope(\"model\"):\n",
    "    _, loss, train_op = lstm_model(X, y, True)\n",
    "    \n",
    "with tf.Session() as sess:\n",
    "    sess.run(tf.global_variables_initializer())\n",
    "    \n",
    "    # 测试在训练之前的模型效果。\n",
    "    print(\"Evaluate model before training.\")\n",
    "    run_eval(sess, test_X, test_y)\n",
    "    \n",
    "    # 训练模型。\n",
    "    for i in range(TRAINING_STEPS):\n",
    "        _, l = sess.run([train_op, loss])  # 训练\n",
    "        if i % 1000 == 0:\n",
    "            print(\"train step: \" + str(i) + \", loss: \" + str(l))\n",
    "    \n",
    "    # 使用训练好的模型对测试数据进行预测。\n",
    "    print(\"Evaluate model after training.\")\n",
    "    run_eval(sess, test_X, test_y)"
   ]
  },
  {
   "cell_type": "code",
   "execution_count": null,
   "metadata": {
    "collapsed": true
   },
   "outputs": [],
   "source": []
  }
 ],
 "metadata": {
  "kernelspec": {
   "display_name": "Python3 (PySpark)",
   "language": "python",
   "name": "python3"
  },
  "language_info": {
   "codemirror_mode": {
    "name": "ipython",
    "version": 3
   },
   "file_extension": ".py",
   "mimetype": "text/x-python",
   "name": "python",
   "nbconvert_exporter": "python",
   "pygments_lexer": "ipython3",
   "version": "3.6.7"
  }
 },
 "nbformat": 4,
 "nbformat_minor": 2
}
