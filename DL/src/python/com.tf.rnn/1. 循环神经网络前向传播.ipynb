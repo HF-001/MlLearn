{
 "cells": [
  {
   "cell_type": "code",
   "execution_count": 1,
   "metadata": {
    "collapsed": true
   },
   "outputs": [],
   "source": [
    "import numpy as np"
   ]
  },
  {
   "cell_type": "markdown",
   "metadata": {},
   "source": [
    "#### 1.  定义RNN的参数。"
   ]
  },
  {
   "cell_type": "code",
   "execution_count": 2,
   "metadata": {
    "collapsed": true
   },
   "outputs": [],
   "source": [
    "X = [1,2]\n",
    "state = [0.0, 0.0]\n",
    "# 分开定义不同输入部分的权重以方便操作\n",
    "w_cell_state = np.asarray([[0.1, 0.2], [0.3, 0.4]]) # 用于和上一个输出状态相乘，h(t-1)*ws\n",
    "w_cell_input = np.asarray([0.5, 0.6])  # 用于和当前输入相乘，x*wi\n",
    "b_cell = np.asarray([0.1, -0.1])  # 偏置\n",
    "\n",
    "# 定义用于输出的全连接层参数\n",
    "w_output = np.asarray([[1.0], [2.0]]) # 权重\n",
    "b_output = 0.1  # 偏置"
   ]
  },
  {
   "cell_type": "markdown",
   "metadata": {},
   "source": [
    "#### 2.  执行前向传播过程。"
   ]
  },
  {
   "cell_type": "code",
   "execution_count": 3,
   "metadata": {},
   "outputs": [
    {
     "name": "stdout",
     "output_type": "stream",
     "text": [
      "before activation:  [0.6 0.5]\n",
      "state:  [0.53704957 0.46211716]\n",
      "output:  [1.56128388]\n",
      "before activation:  [1.2923401  1.39225678]\n",
      "state:  [0.85973818 0.88366641]\n",
      "output:  [2.72707101]\n"
     ]
    }
   ],
   "source": [
    "for i in range(len(X)):  # 时间上循环输入x\n",
    "    before_activation = np.dot(state, w_cell_state) + X[i] * w_cell_input + b_cell  # h(t-1)*ws+xt*wi+b\n",
    "    state = np.tanh(before_activation) # tanh激活函数, 循环体的输出\n",
    "    final_output = np.dot(state, w_output) + b_output   # s*wo+bo, 全连接层\n",
    "    print(\"before activation: \", before_activation)\n",
    "    print(\"state: \", state)\n",
    "    print(\"output: \", final_output)"
   ]
  },
  {
   "cell_type": "code",
   "execution_count": null,
   "metadata": {},
   "outputs": [],
   "source": []
  }
 ],
 "metadata": {
  "kernelspec": {
   "display_name": "Python3 (PySpark)",
   "language": "python",
   "name": "python3"
  },
  "language_info": {
   "codemirror_mode": {
    "name": "ipython",
    "version": 3
   },
   "file_extension": ".py",
   "mimetype": "text/x-python",
   "name": "python",
   "nbconvert_exporter": "python",
   "pygments_lexer": "ipython3",
   "version": "3.6.7"
  }
 },
 "nbformat": 4,
 "nbformat_minor": 2
}
