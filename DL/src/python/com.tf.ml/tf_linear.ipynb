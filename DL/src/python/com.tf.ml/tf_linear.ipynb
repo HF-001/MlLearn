{
 "cells": [
  {
   "cell_type": "code",
   "execution_count": 1,
   "metadata": {},
   "outputs": [],
   "source": [
    "\"\"\"\n",
    "tf实现线性回归,参考：https://www.jianshu.com/p/3d0b054a205d\n",
    "\"\"\"\n",
    "\n",
    "import tensorflow as tf\n",
    "import numpy as np\n",
    "import matplotlib.pyplot as plt\n",
    "\n",
    "#设置超参数\n",
    "learning_rate = 0.01    # 学习率\n",
    "training_epochs = 1000  # 训练轮数\n",
    "display_step = 50       # 隔50次检查一次精确度\n"
   ]
  },
  {
   "cell_type": "code",
   "execution_count": 2,
   "metadata": {},
   "outputs": [],
   "source": [
    "# Training Data 给出训练数据\n",
    "train_X = np.asarray([3.3,4.4,5.5,6.71,6.93,4.168,9.779,6.182,7.59,2.167,\n",
    "                         7.042,10.791,5.313,7.997,5.654,9.27,3.1])\n",
    "train_Y = np.asarray([1.7,2.76,2.09,3.19,1.694,1.573,3.366,2.596,2.53,1.221,\n",
    "                         2.827,3.465,1.65,2.904,2.42,2.94,1.3])\n",
    "n_samples = train_X.shape[0]  # 样本数"
   ]
  },
  {
   "cell_type": "code",
   "execution_count": 3,
   "metadata": {},
   "outputs": [],
   "source": [
    "# tf Graph Input  //线性模型参数初始化\n",
    "X = tf.placeholder(\"float\")    # x占位符\n",
    "Y = tf.placeholder(\"float\")    # y占位符\n",
    "\n",
    "# Set model weights\n",
    "W = tf.Variable(np.random.randn(), name=\"weight\")    # 权重\n",
    "b = tf.Variable(np.random.randn(), name=\"bias\")      # 偏置"
   ]
  },
  {
   "cell_type": "code",
   "execution_count": 4,
   "metadata": {},
   "outputs": [],
   "source": [
    "# Construct a linear model\n",
    "pred = tf.add(tf.multiply(X, W), b)                  # x*w+b"
   ]
  },
  {
   "cell_type": "code",
   "execution_count": 5,
   "metadata": {},
   "outputs": [],
   "source": [
    "# Mean squared error  定义均方差代价函数 \n",
    "cost = tf.reduce_sum(tf.pow(pred-Y, 2))/(2*n_samples) # 1/2n∑ (yi'-yi)^2"
   ]
  },
  {
   "cell_type": "code",
   "execution_count": 6,
   "metadata": {},
   "outputs": [],
   "source": [
    "#优化器 ，使用随机梯度下降法进行优化\n",
    "optimizer = tf.train.GradientDescentOptimizer(learning_rate).minimize(cost)  # 优化器\n",
    "# Initialize the variables (i.e. assign their default value)\n",
    "#定义初始化\n",
    "init = tf.global_variables_initializer()    # 初始化"
   ]
  },
  {
   "cell_type": "code",
   "execution_count": 7,
   "metadata": {},
   "outputs": [
    {
     "name": "stdout",
     "output_type": "stream",
     "text": [
      "Epoch: 0050 cost= 0.161469445 W= 0.4121433 b= -0.36790442\n",
      "Epoch: 0100 cost= 0.151706070 W= 0.40247577 b= -0.29835692\n",
      "Epoch: 0150 cost= 0.143070295 W= 0.39338315 b= -0.23294555\n",
      "Epoch: 0200 cost= 0.135431916 W= 0.3848313 b= -0.1714243\n",
      "Epoch: 0250 cost= 0.128675833 W= 0.37678817 b= -0.11356194\n",
      "Epoch: 0300 cost= 0.122700132 W= 0.36922327 b= -0.05914075\n",
      "Epoch: 0350 cost= 0.117414720 W= 0.36210823 b= -0.007956373\n",
      "Epoch: 0400 cost= 0.112739876 W= 0.35541657 b= 0.040183846\n",
      "Epoch: 0450 cost= 0.108605146 W= 0.34912267 b= 0.08546101\n",
      "Epoch: 0500 cost= 0.104948163 W= 0.34320325 b= 0.1280452\n",
      "Epoch: 0550 cost= 0.101713754 W= 0.33763593 b= 0.16809656\n",
      "Epoch: 0600 cost= 0.098853044 W= 0.33239958 b= 0.20576623\n",
      "Epoch: 0650 cost= 0.096322961 W= 0.3274747 b= 0.24119562\n",
      "Epoch: 0700 cost= 0.094085284 W= 0.32284275 b= 0.2745175\n",
      "Epoch: 0750 cost= 0.092106231 W= 0.31848615 b= 0.3058582\n",
      "Epoch: 0800 cost= 0.090355970 W= 0.31438884 b= 0.33533406\n",
      "Epoch: 0850 cost= 0.088808075 W= 0.31053522 b= 0.36305702\n",
      "Epoch: 0900 cost= 0.087439120 W= 0.3069107 b= 0.3891314\n",
      "Epoch: 0950 cost= 0.086228475 W= 0.30350178 b= 0.41365477\n",
      "Epoch: 1000 cost= 0.085157819 W= 0.30029568 b= 0.4367198\n",
      "Optimization Finished!\n",
      "Training cost= 0.08515782 W= 0.30029568 b= 0.4367198 \n",
      "\n"
     ]
    },
    {
     "data": {
      "image/png": "[encoded data removed]",
      "text/plain": [
       "<Figure size 432x288 with 1 Axes>"
      ]
     },
     "metadata": {
      "needs_background": "light"
     },
     "output_type": "display_data"
    }
   ],
   "source": [
    "# Start training\n",
    "with tf.Session() as sess:    # 创建会话\n",
    "\n",
    "    # Run the initializer\n",
    "    sess.run(init)           # 在会话中执行初始化\n",
    "\n",
    "    # Fit all training data\n",
    "    for epoch in range(training_epochs):    # 循环训练\n",
    "        for (x, y) in zip(train_X, train_Y): # 遍历训练集\n",
    "            sess.run(optimizer, feed_dict={X: x, Y: y})  # 执行训练\n",
    "\n",
    "        # Display logs per epoch step\n",
    "        if (epoch+1) % display_step == 0:     # 每50步打印损失值、权重、偏置\n",
    "            c = sess.run(cost, feed_dict={X: train_X, Y:train_Y}) # 使用全部训练集计算损失值\n",
    "            print(\"Epoch:\", '%04d' % (epoch+1), \"cost=\", \"{:.9f}\".format(c), \\\n",
    "                \"W=\", sess.run(W), \"b=\", sess.run(b))\n",
    "\n",
    "    print(\"Optimization Finished!\")\n",
    "    training_cost = sess.run(cost, feed_dict={X: train_X, Y: train_Y})   # 训练结束后，使用全部数据计算损失值\n",
    "    print(\"Training cost=\", training_cost, \"W=\", sess.run(W), \"b=\", sess.run(b), '\\n')\n",
    "\n",
    "    # Graphic display\n",
    "    plt.plot(train_X, train_Y, 'ro', label='Original data')  # 画数据点\n",
    "    plt.plot(train_X, sess.run(W) * train_X + sess.run(b), label='Fitted line') # 画直线\n",
    "    plt.legend()  # 图例\n",
    "    plt.show()    # 显示图片"
   ]
  },
  {
   "cell_type": "code",
   "execution_count": null,
   "metadata": {},
   "outputs": [],
   "source": []
  }
 ],
 "metadata": {
  "kernelspec": {
   "display_name": "Python3 (PySpark)",
   "language": "python",
   "name": "python3"
  },
  "language_info": {
   "codemirror_mode": {
    "name": "ipython",
    "version": 3
   },
   "file_extension": ".py",
   "mimetype": "text/x-python",
   "name": "python",
   "nbconvert_exporter": "python",
   "pygments_lexer": "ipython3",
   "version": "3.6.7"
  }
 },
 "nbformat": 4,
 "nbformat_minor": 2
}
